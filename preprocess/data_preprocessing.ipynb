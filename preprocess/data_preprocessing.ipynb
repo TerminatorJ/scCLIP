{
 "cells": [
  {
   "cell_type": "markdown",
   "id": "24a971ed",
   "metadata": {},
   "source": [
    "## Objectives:  \n",
    "    \n",
    "We want to set up the data preprocessing step in the single-cell scenario, in which way the pretraining will be  conducted via lising all the genes and their corresponding regulation motifs.\n",
    "\n",
    "In this notebook, we will cover the following contents:\n",
    "\n",
    "- Visualization of the number of gene and mapped motifs to make sure the input length is handlable.\n"
   ]
  },
  {
   "cell_type": "code",
   "execution_count": 2,
   "id": "59481380",
   "metadata": {},
   "outputs": [],
   "source": [
    "from pathlib import Path\n",
    "\n",
    "import numpy as np\n",
    "import snapatac2 as snap\n",
    "from gcell._settings import get_setting\n",
    "import pandas as pd\n",
    "from pyranges import PyRanges as pr\n",
    "import scanpy as sc\n",
    "import matplotlib.pyplot as plt\n",
    "import seaborn as sns"
   ]
  },
  {
   "cell_type": "code",
   "execution_count": 3,
   "id": "9ae58585",
   "metadata": {},
   "outputs": [],
   "source": [
    "save_dir = \"/scratch/project_465001820/scCLIP/dataset/processed_pbmc_dataset\""
   ]
  },
  {
   "cell_type": "markdown",
   "id": "1ad0618f",
   "metadata": {},
   "source": [
    "Prerequisites: download the following files from 10X"
   ]
  },
  {
   "cell_type": "markdown",
   "id": "09d820b1",
   "metadata": {},
   "source": [
    "```bash\n",
    "wget \"https://cf.10xgenomics.com/samples/cell-arc/2.0.0/pbmc_granulocyte_sorted_10k/pbmc_granulocyte_sorted_10k_filtered_feature_bc_matrix.h5\"\n",
    "```"
   ]
  },
  {
   "cell_type": "markdown",
   "id": "751c6454",
   "metadata": {},
   "source": [
    "Loading the single-cell multiomics data"
   ]
  },
  {
   "cell_type": "code",
   "execution_count": 4,
   "id": "a42ca0c7",
   "metadata": {},
   "outputs": [
    {
     "name": "stderr",
     "output_type": "stream",
     "text": [
      "/scratch/project_465001820/miniconda3/envs/scCLIP2/lib/python3.10/site-packages/anndata/_core/anndata.py:1756: UserWarning: Variable names are not unique. To make them unique, call `.var_names_make_unique`.\n",
      "  utils.warn_names_duplicates(\"var\")\n"
     ]
    },
    {
     "data": {
      "text/plain": [
       "AnnData object with n_obs × n_vars = 11898 × 180488\n",
       "    var: 'gene_ids', 'feature_types', 'genome', 'interval'"
      ]
     },
     "execution_count": 4,
     "metadata": {},
     "output_type": "execute_result"
    }
   ],
   "source": [
    "ad = sc.read_10x_h5('/scratch/project_465001820/scCLIP/dataset/pbmc_multiomics/pbmc_granulocyte_sorted_10k_filtered_feature_bc_matrix.h5', gex_only=False)\n",
    "ad"
   ]
  },
  {
   "cell_type": "markdown",
   "id": "66fca2e4",
   "metadata": {},
   "source": [
    "## Getting the cell type labels"
   ]
  },
  {
   "cell_type": "code",
   "execution_count": 5,
   "id": "2d832dcc",
   "metadata": {},
   "outputs": [],
   "source": [
    "# %%\n",
    "# read rna data\n",
    "if not Path(f'{save_dir}/rna.h5ad').exists():\n",
    "    rna = snap.read(snap.datasets.pbmc10k_multiome(modality='RNA'), backed=None)\n",
    "    sc.pp.highly_variable_genes(rna, flavor='seurat_v3', n_top_genes=3000)\n",
    "    rna_filtered = rna[:, rna.var.highly_variable]\n",
    "    sc.pp.normalize_total(rna_filtered, target_sum=1e4)\n",
    "    sc.pp.log1p(rna_filtered)\n",
    "    snap.tl.spectral(rna_filtered, features=None)\n",
    "    snap.tl.umap(rna_filtered)\n",
    "    rna_filtered.write(f'{save_dir}/rna.h5ad')\n",
    "else:\n",
    "    rna_filtered = sc.read(f'{save_dir}/rna.h5ad')"
   ]
  },
  {
   "cell_type": "markdown",
   "id": "3a11034b",
   "metadata": {},
   "source": [
    "Here, I'm going to use the cell type labels from preprocessed snapatac2 object."
   ]
  },
  {
   "cell_type": "code",
   "execution_count": 6,
   "id": "3bf39c3f",
   "metadata": {},
   "outputs": [],
   "source": [
    "ad = ad[ad.obs.index.isin(rna_filtered.obs.index.values)]"
   ]
  },
  {
   "cell_type": "code",
   "execution_count": 7,
   "id": "547f7591",
   "metadata": {},
   "outputs": [
    {
     "data": {
      "text/plain": [
       "AnnData object with n_obs × n_vars = 9631 × 3000\n",
       "    obs: 'domain', 'cell_type'\n",
       "    var: 'gene_ids', 'feature_types', 'highly_variable', 'highly_variable_rank', 'means', 'variances', 'variances_norm'\n",
       "    uns: 'hvg', 'log1p', 'spectral_eigenvalue'\n",
       "    obsm: 'X_spectral', 'X_umap'"
      ]
     },
     "execution_count": 7,
     "metadata": {},
     "output_type": "execute_result"
    }
   ],
   "source": [
    "rna_filtered"
   ]
  },
  {
   "cell_type": "code",
   "execution_count": 8,
   "id": "28501d05",
   "metadata": {},
   "outputs": [
    {
     "name": "stderr",
     "output_type": "stream",
     "text": [
      "/tmp/ipykernel_64299/1270784820.py:2: ImplicitModificationWarning: Trying to modify attribute `.obs` of view, initializing view as actual.\n",
      "  ad.obs['cell_type'] = ad.obs.index.map(barcode_to_celltype)\n",
      "/scratch/project_465001820/miniconda3/envs/scCLIP2/lib/python3.10/site-packages/anndata/_core/anndata.py:1756: UserWarning: Variable names are not unique. To make them unique, call `.var_names_make_unique`.\n",
      "  utils.warn_names_duplicates(\"var\")\n",
      "/scratch/project_465001820/miniconda3/envs/scCLIP2/lib/python3.10/site-packages/anndata/_core/anndata.py:1756: UserWarning: Variable names are not unique. To make them unique, call `.var_names_make_unique`.\n",
      "  utils.warn_names_duplicates(\"var\")\n"
     ]
    }
   ],
   "source": [
    "barcode_to_celltype = rna_filtered.obs.to_dict()['cell_type']\n",
    "ad.obs['cell_type'] = ad.obs.index.map(barcode_to_celltype)\n"
   ]
  },
  {
   "cell_type": "code",
   "execution_count": 9,
   "id": "899ca5df",
   "metadata": {},
   "outputs": [
    {
     "data": {
      "text/plain": [
       "AnnData object with n_obs × n_vars = 9627 × 180488\n",
       "    obs: 'cell_type'\n",
       "    var: 'gene_ids', 'feature_types', 'genome', 'interval'"
      ]
     },
     "execution_count": 9,
     "metadata": {},
     "output_type": "execute_result"
    }
   ],
   "source": [
    "ad"
   ]
  },
  {
   "cell_type": "code",
   "execution_count": 10,
   "id": "1e237a34",
   "metadata": {},
   "outputs": [
    {
     "data": {
      "text/html": [
       "<div>\n",
       "<style scoped>\n",
       "    .dataframe tbody tr th:only-of-type {\n",
       "        vertical-align: middle;\n",
       "    }\n",
       "\n",
       "    .dataframe tbody tr th {\n",
       "        vertical-align: top;\n",
       "    }\n",
       "\n",
       "    .dataframe thead th {\n",
       "        text-align: right;\n",
       "    }\n",
       "</style>\n",
       "<table border=\"1\" class=\"dataframe\">\n",
       "  <thead>\n",
       "    <tr style=\"text-align: right;\">\n",
       "      <th></th>\n",
       "      <th>cell_type</th>\n",
       "    </tr>\n",
       "  </thead>\n",
       "  <tbody>\n",
       "    <tr>\n",
       "      <th>AAACAGCCAATCCCTT-1</th>\n",
       "      <td>CD4 TCM</td>\n",
       "    </tr>\n",
       "    <tr>\n",
       "      <th>AAACAGCCAATGCGCT-1</th>\n",
       "      <td>CD4 Naive</td>\n",
       "    </tr>\n",
       "    <tr>\n",
       "      <th>AAACAGCCACCAACCG-1</th>\n",
       "      <td>CD8 Naive</td>\n",
       "    </tr>\n",
       "    <tr>\n",
       "      <th>AAACAGCCAGGATAAC-1</th>\n",
       "      <td>CD4 Naive</td>\n",
       "    </tr>\n",
       "    <tr>\n",
       "      <th>AAACAGCCAGTTTACG-1</th>\n",
       "      <td>CD4 TCM</td>\n",
       "    </tr>\n",
       "    <tr>\n",
       "      <th>...</th>\n",
       "      <td>...</td>\n",
       "    </tr>\n",
       "    <tr>\n",
       "      <th>TTTGTTGGTGACATGC-1</th>\n",
       "      <td>CD8 Naive</td>\n",
       "    </tr>\n",
       "    <tr>\n",
       "      <th>TTTGTTGGTGTTAAAC-1</th>\n",
       "      <td>CD8 Naive</td>\n",
       "    </tr>\n",
       "    <tr>\n",
       "      <th>TTTGTTGGTTAGGATT-1</th>\n",
       "      <td>NK</td>\n",
       "    </tr>\n",
       "    <tr>\n",
       "      <th>TTTGTTGGTTGGTTAG-1</th>\n",
       "      <td>CD4 TCM</td>\n",
       "    </tr>\n",
       "    <tr>\n",
       "      <th>TTTGTTGGTTTGCAGA-1</th>\n",
       "      <td>CD8 TEM_1</td>\n",
       "    </tr>\n",
       "  </tbody>\n",
       "</table>\n",
       "<p>9627 rows × 1 columns</p>\n",
       "</div>"
      ],
      "text/plain": [
       "                    cell_type\n",
       "AAACAGCCAATCCCTT-1    CD4 TCM\n",
       "AAACAGCCAATGCGCT-1  CD4 Naive\n",
       "AAACAGCCACCAACCG-1  CD8 Naive\n",
       "AAACAGCCAGGATAAC-1  CD4 Naive\n",
       "AAACAGCCAGTTTACG-1    CD4 TCM\n",
       "...                       ...\n",
       "TTTGTTGGTGACATGC-1  CD8 Naive\n",
       "TTTGTTGGTGTTAAAC-1  CD8 Naive\n",
       "TTTGTTGGTTAGGATT-1         NK\n",
       "TTTGTTGGTTGGTTAG-1    CD4 TCM\n",
       "TTTGTTGGTTTGCAGA-1  CD8 TEM_1\n",
       "\n",
       "[9627 rows x 1 columns]"
      ]
     },
     "execution_count": 10,
     "metadata": {},
     "output_type": "execute_result"
    }
   ],
   "source": [
    "ad.obs"
   ]
  },
  {
   "cell_type": "markdown",
   "id": "cd81c4f8",
   "metadata": {},
   "source": [
    "# Extracting the ATAC-seq dataset "
   ]
  },
  {
   "cell_type": "code",
   "execution_count": 17,
   "id": "57741d2f",
   "metadata": {},
   "outputs": [
    {
     "data": {
      "text/plain": [
       "(143887, 3)"
      ]
     },
     "execution_count": 17,
     "metadata": {},
     "output_type": "execute_result"
    }
   ],
   "source": [
    "import pandas as pd\n",
    "from pyranges import PyRanges as pr\n",
    "def get_peak_from_snapatac(atac: snap.AnnData):\n",
    "    \"\"\"\n",
    "    Get the peak names from the snapatac object.\n",
    "\n",
    "    Args:\n",
    "        atac: snapatac2 processed AnnData object\n",
    "\n",
    "    Returns:\n",
    "        peak_names: pandas DatasFrame with the peak names\n",
    "    \"\"\"\n",
    "    peak_names = pd.DataFrame(atac.var.index.str.split('[:-]').tolist(), columns=['Chromosome', 'Start', 'End'])\n",
    "    peak_names['Start'] = peak_names['Start'].astype(int)\n",
    "    peak_names['End'] = peak_names['End'].astype(int)\n",
    "    return peak_names\n",
    "\n",
    "peaks = get_peak_from_snapatac(ad_atac)\n",
    "peaks.shape"
   ]
  },
  {
   "cell_type": "code",
   "execution_count": 11,
   "id": "6d6c481f",
   "metadata": {},
   "outputs": [
    {
     "data": {
      "text/plain": [
       "View of AnnData object with n_obs × n_vars = 9627 × 143887\n",
       "    obs: 'cell_type'\n",
       "    var: 'gene_ids', 'feature_types', 'genome', 'interval'"
      ]
     },
     "execution_count": 11,
     "metadata": {},
     "output_type": "execute_result"
    }
   ],
   "source": [
    "ad_atac = ad[:, np.where(ad.var.feature_types == 'Peaks')[0]]\n",
    "ad_atac"
   ]
  },
  {
   "cell_type": "markdown",
   "id": "4f644403",
   "metadata": {},
   "source": [
    "We filter for cell types with >100 cells and at least 3M library size."
   ]
  },
  {
   "cell_type": "code",
   "execution_count": 12,
   "id": "2b1acf6f",
   "metadata": {},
   "outputs": [
    {
     "name": "stdout",
     "output_type": "stream",
     "text": [
      "The following cell types have more than 100 cells and library size > 3M, adding them to celltype_for_modeling\n",
      "CD14 Mono number of cells: 2551, library size: 62039712\n",
      "CD16 Mono number of cells: 442, library size: 10504281\n",
      "CD4 Naive number of cells: 1382, library size: 29601700\n",
      "CD4 TCM number of cells: 1113, library size: 24745884\n",
      "CD4 TEM number of cells: 286, library size: 6965094\n",
      "CD8 Naive number of cells: 1353, library size: 30763516\n",
      "CD8 TEM_1 number of cells: 322, library size: 7209424\n",
      "CD8 TEM_2 number of cells: 315, library size: 6378479\n",
      "Intermediate B number of cells: 300, library size: 8366581\n",
      "MAIT number of cells: 130, library size: 3290943\n",
      "Memory B number of cells: 298, library size: 7267452\n",
      "NK number of cells: 403, library size: 8665433\n",
      "Naive B number of cells: 125, library size: 3618917\n",
      "Treg number of cells: 157, library size: 3135736\n",
      "cDC number of cells: 180, library size: 6102032\n",
      "gdT number of cells: 143, library size: 3106695\n"
     ]
    }
   ],
   "source": [
    "# %%\n",
    "cell_number = ad_atac.obs.groupby('cell_type', observed=False).size().to_dict()\n",
    "print(\"The following cell types have more than 100 cells and library size > 3M, adding them to celltype_for_modeling\")\n",
    "celltype_for_modeling = []\n",
    "for cell_type in cell_number:\n",
    "    if cell_number[cell_type] > 100:\n",
    "        celltype_for_modeling.append(cell_type)\n",
    "        libsize = int(ad_atac[ad_atac.obs.cell_type == cell_type].X.sum())\n",
    "        if libsize > 3000000:\n",
    "            print(f\"{cell_type} number of cells: {cell_number[cell_type]}, library size: {libsize}\")"
   ]
  },
  {
   "cell_type": "code",
   "execution_count": 18,
   "id": "3dccf14a",
   "metadata": {},
   "outputs": [],
   "source": [
    "# %%\n",
    "def get_peak_acpm_for_cell_type(atac: snap.AnnData, cell_type: str):\n",
    "    \"\"\"\n",
    "    Get the peak acpm for a given cell type.\n",
    "    \"\"\"\n",
    "    peaks = get_peak_from_snapatac(atac) #the coordinates of all the peaks from 10x pbmc atac dataset\n",
    "    counts = np.array(atac[atac.obs.cell_type == cell_type].X.sum(0)).flatten()#counts of each peak\n",
    "    acpm = np.log10(counts / counts.sum() * 1e5 + 1) #normalization\n",
    "    peaks['aCPM'] = acpm/acpm.max() #to 0-1, and this is a pseudobulk result\n",
    "    peaks = peaks.query('Chromosome.str.startswith(\"chr\") & ~Chromosome.str.endswith(\"M\") & ~Chromosome.str.endswith(\"Y\") & ~Chromosome.str.startswith(\"chrUn\")')\n",
    "    peaks = pr(peaks, int64=True).sort().df\n",
    "    return peaks"
   ]
  },
  {
   "cell_type": "markdown",
   "id": "d022b968",
   "metadata": {},
   "source": [
    "save the peak \".bed\" files for each cell type "
   ]
  },
  {
   "cell_type": "code",
   "execution_count": 16,
   "id": "5d423963",
   "metadata": {},
   "outputs": [
    {
     "ename": "NameError",
     "evalue": "name 'get_peak_from_snapatac' is not defined",
     "output_type": "error",
     "traceback": [
      "\u001b[0;31m---------------------------------------------------------------------------\u001b[0m",
      "\u001b[0;31mNameError\u001b[0m                                 Traceback (most recent call last)",
      "Cell \u001b[0;32mIn[16], line 2\u001b[0m\n\u001b[1;32m      1\u001b[0m \u001b[38;5;28;01mfor\u001b[39;00m cell_type \u001b[38;5;129;01min\u001b[39;00m celltype_for_modeling:\n\u001b[0;32m----> 2\u001b[0m     peaks \u001b[38;5;241m=\u001b[39m \u001b[43mget_peak_acpm_for_cell_type\u001b[49m\u001b[43m(\u001b[49m\u001b[43mad_atac\u001b[49m\u001b[43m,\u001b[49m\u001b[43m \u001b[49m\u001b[43mcell_type\u001b[49m\u001b[43m)\u001b[49m\n\u001b[1;32m      3\u001b[0m     peaks\u001b[38;5;241m.\u001b[39mto_csv(\u001b[38;5;124mf\u001b[39m\u001b[38;5;124m'\u001b[39m\u001b[38;5;132;01m{\u001b[39;00msave_dir\u001b[38;5;132;01m}\u001b[39;00m\u001b[38;5;124m/\u001b[39m\u001b[38;5;132;01m{\u001b[39;00mcell_type\u001b[38;5;241m.\u001b[39mreplace(\u001b[38;5;124m\"\u001b[39m\u001b[38;5;124m \u001b[39m\u001b[38;5;124m\"\u001b[39m,\u001b[38;5;250m \u001b[39m\u001b[38;5;124m\"\u001b[39m\u001b[38;5;124m_\u001b[39m\u001b[38;5;124m\"\u001b[39m)\u001b[38;5;241m.\u001b[39mlower()\u001b[38;5;132;01m}\u001b[39;00m\u001b[38;5;124m.atac.bed\u001b[39m\u001b[38;5;124m'\u001b[39m, sep\u001b[38;5;241m=\u001b[39m\u001b[38;5;124m'\u001b[39m\u001b[38;5;130;01m\\t\u001b[39;00m\u001b[38;5;124m'\u001b[39m, index\u001b[38;5;241m=\u001b[39m\u001b[38;5;28;01mFalse\u001b[39;00m, header\u001b[38;5;241m=\u001b[39m\u001b[38;5;28;01mFalse\u001b[39;00m)\n",
      "Cell \u001b[0;32mIn[15], line 6\u001b[0m, in \u001b[0;36mget_peak_acpm_for_cell_type\u001b[0;34m(atac, cell_type)\u001b[0m\n\u001b[1;32m      2\u001b[0m \u001b[38;5;28;01mdef\u001b[39;00m\u001b[38;5;250m \u001b[39m\u001b[38;5;21mget_peak_acpm_for_cell_type\u001b[39m(atac: snap\u001b[38;5;241m.\u001b[39mAnnData, cell_type: \u001b[38;5;28mstr\u001b[39m):\n\u001b[1;32m      3\u001b[0m \u001b[38;5;250m    \u001b[39m\u001b[38;5;124;03m\"\"\"\u001b[39;00m\n\u001b[1;32m      4\u001b[0m \u001b[38;5;124;03m    Get the peak acpm for a given cell type.\u001b[39;00m\n\u001b[1;32m      5\u001b[0m \u001b[38;5;124;03m    \"\"\"\u001b[39;00m\n\u001b[0;32m----> 6\u001b[0m     peaks \u001b[38;5;241m=\u001b[39m \u001b[43mget_peak_from_snapatac\u001b[49m(atac) \u001b[38;5;66;03m#the coordinates of all the peaks from 10x pbmc atac dataset\u001b[39;00m\n\u001b[1;32m      7\u001b[0m     counts \u001b[38;5;241m=\u001b[39m np\u001b[38;5;241m.\u001b[39marray(atac[atac\u001b[38;5;241m.\u001b[39mobs\u001b[38;5;241m.\u001b[39mcell_type \u001b[38;5;241m==\u001b[39m cell_type]\u001b[38;5;241m.\u001b[39mX\u001b[38;5;241m.\u001b[39msum(\u001b[38;5;241m0\u001b[39m))\u001b[38;5;241m.\u001b[39mflatten()\u001b[38;5;66;03m#counts of each peak\u001b[39;00m\n\u001b[1;32m      8\u001b[0m     acpm \u001b[38;5;241m=\u001b[39m np\u001b[38;5;241m.\u001b[39mlog10(counts \u001b[38;5;241m/\u001b[39m counts\u001b[38;5;241m.\u001b[39msum() \u001b[38;5;241m*\u001b[39m \u001b[38;5;241m1e5\u001b[39m \u001b[38;5;241m+\u001b[39m \u001b[38;5;241m1\u001b[39m) \u001b[38;5;66;03m#normalization\u001b[39;00m\n",
      "\u001b[0;31mNameError\u001b[0m: name 'get_peak_from_snapatac' is not defined"
     ]
    }
   ],
   "source": [
    "for cell_type in celltype_for_modeling:\n",
    "    peaks = get_peak_acpm_for_cell_type(ad_atac, cell_type)\n",
    "    peaks.to_csv(f'{save_dir}/{cell_type.replace(\" \", \"_\").lower()}.atac.bed', sep='\\t', index=False, header=False)"
   ]
  },
  {
   "cell_type": "markdown",
   "id": "4d85281a",
   "metadata": {},
   "source": [
    "Plot the library size for each cell"
   ]
  },
  {
   "cell_type": "code",
   "execution_count": null,
   "id": "368eabf8",
   "metadata": {},
   "outputs": [],
   "source": [
    "libsize = ad_atac.X.sum(axis=1)"
   ]
  },
  {
   "cell_type": "code",
   "execution_count": null,
   "id": "3b314c51",
   "metadata": {},
   "outputs": [],
   "source": [
    "#to a binary representation\n",
    "plt.figure(figsize=(10, 6))\n",
    "sns.kdeplot(libsize, fill=True)\n",
    "plt.xlabel(\"Library Size\", fontsize = 12)\n",
    "plt.ylabel(\"Density\", fontsize = 12)\n",
    "plt.tick_params(axis='both', which='major', labelsize=14)\n",
    "plt.title(\"Density Plot of the ATAC-seq library size\")\n",
    "plt.savefig(\"../figures/pbmc_libsize_density_plot.png\", dpi=300)\n",
    "plt.show()"
   ]
  },
  {
   "cell_type": "markdown",
   "id": "b0ac93c6",
   "metadata": {},
   "source": [
    "# Query motifs "
   ]
  },
  {
   "cell_type": "code",
   "execution_count": null,
   "id": "b25fbf2a",
   "metadata": {},
   "outputs": [],
   "source": [
    "import os\n",
    "from pathlib import Path\n",
    "\n",
    "from gcell._settings import get_setting\n",
    "import sys\n",
    "sys.path.append(\"/scratch/project_465001820/scCLIP/get_model/tutorials/\")\n",
    "from preprocess_utils import (\n",
    "    add_atpm,\n",
    "    add_exp,\n",
    "    create_peak_motif,\n",
    "    download_motif,\n",
    "    get_motif,\n",
    "    query_motif,\n",
    ")"
   ]
  },
  {
   "cell_type": "markdown",
   "id": "5db3bb0f",
   "metadata": {},
   "source": [
    "query motifs according to the chromosome"
   ]
  },
  {
   "cell_type": "code",
   "execution_count": null,
   "id": "957cebc1",
   "metadata": {},
   "outputs": [],
   "source": [
    "motif_bed = \"/scratch/project_465001820/scCLIP/dataset/motif/hg38.archetype_motifs.v1.0.bed.gz\"\n",
    "peak_bed = f\"{save_dir}/cd4_naive.atac.bed\" # since all cell types share the same peak set, when querying motifs, we can just use one cell type to query motifs.\n",
    "peaks_motif = query_motif(peak_bed, motif_bed, save_dir)#filtering the motifs that are overlap with the peak \n",
    "get_motif_output = get_motif(peak_bed, peaks_motif, save_dir)#overlapping the motif according to the chromosomes\n",
    "get_motif_output = f\"{save_dir}/get_motif.bed\""
   ]
  },
  {
   "cell_type": "markdown",
   "id": "7ca57548",
   "metadata": {},
   "source": [
    "# Create peak \"motif zarr file"
   ]
  },
  {
   "cell_type": "markdown",
   "id": "6975531e",
   "metadata": {},
   "source": [
    "Create a peak x motif matrix stored in a zarr file. If you are working on multiple cell types with the same peak set, you can use the same peak bed and zarr file for all cell types."
   ]
  },
  {
   "cell_type": "code",
   "execution_count": null,
   "id": "e88a4555",
   "metadata": {},
   "outputs": [],
   "source": [
    "create_peak_motif(get_motif_output, f\"{save_dir}/pbmc10k_multiome.zarr\", peak_bed) # all cell types will later be added to the same zarr file as we use the same peak set.\n"
   ]
  },
  {
   "cell_type": "markdown",
   "id": "cc5f7684",
   "metadata": {},
   "source": [
    "Add aCPM data to region x motif matrix"
   ]
  },
  {
   "cell_type": "code",
   "execution_count": null,
   "id": "d3eaa280",
   "metadata": {},
   "outputs": [],
   "source": [
    "for cell_type in celltype_for_modeling:\n",
    "    print(f\"{cell_type}\")\n",
    "    add_atpm(\n",
    "        f\"{save_dir}/pbmc10k_multiome.zarr\",\n",
    "        f\"{save_dir}/{cell_type}.atac.bed\",\n",
    "        cell_type,\n",
    "    )"
   ]
  },
  {
   "cell_type": "markdown",
   "id": "77c6bd71",
   "metadata": {},
   "source": [
    "Add expression and TSS data to region x motif matrix"
   ]
  },
  {
   "cell_type": "code",
   "execution_count": null,
   "id": "805d110f",
   "metadata": {},
   "outputs": [],
   "source": [
    "for cell_type in celltype_for_modeling:\n",
    "    add_exp(\n",
    "        f\"{save_dir}/pbmc10k_multiome.zarr\",\n",
    "        f\"{save_dir}/{cell_type}.rna.csv\",\n",
    "        f\"{save_dir}/{cell_type}.atac.bed\",\n",
    "        cell_type,\n",
    "        assembly=\"hg38\",\n",
    "        version=44,\n",
    "        extend_bp=300, # extend TSS region to 300bp upstream and downstream when overlapping with peaks\n",
    "    id_or_name=\"gene_name\", # use gene_name or gene_id to match the gene expression data, checkout your rna.csv file column names, should be either [gene_name, TPM] or [gene_id, TPM]\n",
    ")"
   ]
  },
  {
   "cell_type": "code",
   "execution_count": null,
   "id": "3ac6887b",
   "metadata": {},
   "outputs": [],
   "source": []
  }
 ],
 "metadata": {
  "kernelspec": {
   "display_name": "Python [conda env:scCLIP2]",
   "language": "python",
   "name": "conda-env-scCLIP2-py"
  },
  "language_info": {
   "codemirror_mode": {
    "name": "ipython",
    "version": 3
   },
   "file_extension": ".py",
   "mimetype": "text/x-python",
   "name": "python",
   "nbconvert_exporter": "python",
   "pygments_lexer": "ipython3",
   "version": "3.10.16"
  }
 },
 "nbformat": 4,
 "nbformat_minor": 5
}
